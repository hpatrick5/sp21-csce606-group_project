{
 "cells": [
  {
   "cell_type": "code",
   "execution_count": 1,
   "metadata": {},
   "outputs": [],
   "source": [
    "import pandas as pd \n",
    "import numpy as np"
   ]
  },
  {
   "cell_type": "code",
   "execution_count": 9,
   "metadata": {},
   "outputs": [
    {
     "name": "stdout",
     "output_type": "stream",
     "text": [
      "25\n",
      "7\n",
      "12\n",
      "17\n"
     ]
    }
   ],
   "source": [
    "#math grade 4\n",
    "df_g4_math = pd.read_excel(\"Grade4_Compare_AI_with_Expert.xlsx\", \"Math_Compare_With_JC\")\n",
    "#df_g4\n",
    "#23 observstions (number of rows in the df)\n",
    "total_g4_math = df_g4_math.shape[0]\n",
    "print(total_g4_math)\n",
    "\n",
    "#number in approaches\n",
    "#df_g4\n",
    "df_g4_math.rename(columns={'AI predictions':'AIpred'}, inplace=True)\n",
    "df_g4_math\n",
    "\n",
    "#number in masters (students in meets are also in masters)\n",
    "g4_math_masters = df_g4_math.query('AIpred == \"Masters\"').AIpred.count()\n",
    "print(g4_math_masters)\n",
    "\n",
    "#number in meets\n",
    "g4_math_meets = df_g4_math.query('AIpred == \"Meets\"').AIpred.count() + g4_math_masters\n",
    "print(g4_math_meets)\n",
    "\n",
    "g4_math_approaches = df_g4_math.query('AIpred == \"Approaches\"').AIpred.count() + g4_math_meets\n",
    "print(g4_math_approaches)\n",
    "\n"
   ]
  },
  {
   "cell_type": "code",
   "execution_count": 10,
   "metadata": {},
   "outputs": [
    {
     "name": "stdout",
     "output_type": "stream",
     "text": [
      "25\n",
      "6\n",
      "13\n",
      "18\n"
     ]
    }
   ],
   "source": [
    "#reading grade 4\n",
    "df_g4_read = pd.read_excel(\"Grade4_Compare_AI_with_Expert.xlsx\",\"Reading_Compare_with_JC\")\n",
    "#df_g4_read\n",
    "\n",
    "total_g4_read = df_g4_read.shape[0]\n",
    "print(total_g4_read)\n",
    "\n",
    "#number in approaches\n",
    "df_g4_read.rename(columns={'AI Predictions':'AIpred'}, inplace=True)\n",
    "\n",
    "#number in masters (students in meets are also in masters)\n",
    "g4_read_masters = df_g4_read.query('AIpred == \"Masters\"').AIpred.count()\n",
    "print(g4_read_masters)\n",
    "\n",
    "#number in meets\n",
    "g4_read_meets = df_g4_read.query('AIpred == \"Meets\"').AIpred.count() + g4_read_masters\n",
    "print(g4_read_meets)\n",
    "\n",
    "#df_g4_read\n",
    "g4_read_approaches = df_g4_read.query('AIpred == \"Approaches\"').AIpred.count() + g4_read_meets\n",
    "print(g4_read_approaches)\n",
    "\n"
   ]
  },
  {
   "cell_type": "code",
   "execution_count": 162,
   "metadata": {},
   "outputs": [],
   "source": [
    "########PLEASE NOTE GRADE 5 APPROACHES, MEETS AND MASTERS IS IN DIFFERNT FORMAT SO CALCULATIONS ARE A BIT DIFFERNT####"
   ]
  },
  {
   "cell_type": "code",
   "execution_count": 11,
   "metadata": {},
   "outputs": [
    {
     "name": "stdout",
     "output_type": "stream",
     "text": [
      "22\n",
      "19\n",
      "11\n",
      "3\n"
     ]
    }
   ],
   "source": [
    "#math grade 5\n",
    "df_g5_math = pd.read_excel(\"Grade5_Predictions_Final.xlsx\",\"Grade5_Math_Predictions_Final\")\n",
    "df_g5_math\n",
    "total_g5_math = df_g5_math.shape[0]\n",
    "print(total_g5_math)\n",
    "\n",
    "#number in approaches\n",
    "df_g5_math.rename(columns={'AI Approches':'AIapp'}, inplace=True)\n",
    "#df_g5_math\n",
    "g5_math_approaches = df_g5_math.query('AIapp == 1').AIapp.count()\n",
    "print(g5_math_approaches)\n",
    "\n",
    "#number in meets\n",
    "df_g5_math.rename(columns={'AI Meets':'AImeets'}, inplace=True)\n",
    "g5_math_meets = df_g5_math.query('AImeets == 1').AImeets.count()\n",
    "g5_math_meets\n",
    "print(g5_math_meets)\n",
    "\n",
    "#number in masters (students in meets are also in masters)\n",
    "df_g5_math.rename(columns={'AI Masters':'AImasters'}, inplace=True)\n",
    "g5_math_masters = df_g5_math.query('AImasters == 1').AImasters.count() \n",
    "g5_math_masters\n",
    "print(g5_math_masters)"
   ]
  },
  {
   "cell_type": "code",
   "execution_count": 13,
   "metadata": {},
   "outputs": [
    {
     "name": "stdout",
     "output_type": "stream",
     "text": [
      "22\n",
      "16\n",
      "12\n",
      "9\n"
     ]
    }
   ],
   "source": [
    "#reading grade 5\n",
    "df_g5_read = pd.read_excel(\"Grade5_Predictions_Final.xlsx\",\"Grade5_Reading_Predictions_Fina\")\n",
    "df_g5_read\n",
    "total_g5_read = df_g5_read.shape[0]\n",
    "\n",
    "print(total_g5_read)\n",
    "\n",
    "#number in approaches\n",
    "df_g5_read.rename(columns={'AI Approaches':'AIapp'}, inplace=True)\n",
    "\n",
    "g5_read_approaches = df_g5_read.query('AIapp == 1').AIapp.count()\n",
    "\n",
    "print(g5_read_approaches)\n",
    "\n",
    "#number in meets\n",
    "df_g5_read.rename(columns={'AI Meets':'AImeets'}, inplace=True)\n",
    "g5_read_meets = df_g5_read.query('AImeets == 1').AImeets.count()\n",
    "print(g5_read_meets)\n",
    "\n",
    "\n",
    "#number in masters (students in meets are also in masters)\n",
    "df_g5_read.rename(columns={'AI Masters':'AImasters'}, inplace=True)\n",
    "g5_read_masters = df_g5_read.query('AImasters == 1').AImasters.count() \n",
    "print(g5_read_masters)\n"
   ]
  },
  {
   "cell_type": "code",
   "execution_count": 165,
   "metadata": {},
   "outputs": [
    {
     "name": "stdout",
     "output_type": "stream",
     "text": [
      "44\n",
      "20\n",
      "Percent Math Approaches: 54.54545454545454\n",
      "Percent Math Meets: 47.72727272727273\n",
      "Percent Math Masters: 45.45454545454545\n",
      "Percent Read Approaches: 46.666666666666664\n",
      "Percent Read Meets 51.11111111111111\n",
      "Percent Read Masters 42.22222222222222\n",
      "raw math 49.24242424242424\n",
      "raw read 46.666666666666664\n"
     ]
    }
   ],
   "source": [
    "#percents in approaches, meets and masters for math grades 4 and 5 combined\n",
    "total_math = total_g4_math + total_g5_math\n",
    "print(total_math)\n",
    "\n",
    "total_math_approaches = g4_math_approaches + g5_math_approaches\n",
    "total_math_meets = g4_math_meets + g5_math_meets\n",
    "total_math_masters = g4_math_masters + g5_math_masters\n",
    "print(total_math_masters)\n",
    "\n",
    "#percent math approaches \n",
    "share_math_app = (total_math_approaches/total_math)*100\n",
    "print(\"Percent Math Approaches:\", share_math_app)\n",
    "\n",
    "#percent math meets\n",
    "share_math_meets = (total_math_meets/total_math)*100\n",
    "print(\"Percent Math Meets:\", share_math_meets)\n",
    "\n",
    "#percent math masters\n",
    "share_math_masters = (total_math_masters/total_math)*100\n",
    "print(\"Percent Math Masters:\", share_math_masters)\n",
    "\n",
    "\n",
    "#percents in approaches, meets and masters for reading grades 4 and 5 combined\n",
    "total_read = total_g4_read + total_g5_read\n",
    "total_read_approaches = g4_read_approaches + g5_read_approaches\n",
    "total_read_meets = g4_read_meets + g5_read_meets\n",
    "total_read_masters = g4_read_masters + g5_read_masters\n",
    "#print(total_read)\n",
    "\n",
    "#percent read approaches \n",
    "share_read_app = (total_read_approaches/total_read)*100\n",
    "print(\"Percent Read Approaches:\", share_read_app)\n",
    "\n",
    "#percent read meets\n",
    "share_read_meets = (total_read_meets/total_read)*100\n",
    "print(\"Percent Read Meets\", share_read_meets)\n",
    "\n",
    "#percent math masters\n",
    "share_read_masters = (total_read_masters/total_read)*100\n",
    "print(\"Percent Read Masters\", share_read_masters)\n",
    "\n",
    "#take average for math\n",
    "math_average_raw = (share_math_app + share_math_meets + share_math_masters)/3\n",
    "print(\"raw math\",math_average_raw )\n",
    "\n",
    "#take average for read \n",
    "math_average_read = (share_read_app + share_read_meets + share_read_masters)/3\n",
    "print(\"raw read\",math_average_read)\n"
   ]
  },
  {
   "cell_type": "code",
   "execution_count": 166,
   "metadata": {},
   "outputs": [],
   "source": [
    "#from conversion tool https://rptsvr1.tea.texas.gov/perfreport/account/2019/scaling_tool.html\n",
    "#math scaled = 80 (B)\n",
    "#read scaled = 78 (C)"
   ]
  },
  {
   "cell_type": "code",
   "execution_count": 15,
   "metadata": {},
   "outputs": [
    {
     "name": "stdout",
     "output_type": "stream",
     "text": [
      "18\n",
      "18\n",
      "17\n",
      "19\n",
      "Percent ED Read 78.72340425531915\n",
      "Percent ED Math 74.46808510638297\n"
     ]
    }
   ],
   "source": [
    "#domain 2B calculation\n",
    "#get percentage of economically disadvantaged students for grade 4 math\n",
    "df_g4_math = pd.read_excel(\"Grade4_Compare_AI_with_Expert.xlsx\", \"Math_Compare_With_JC\")\n",
    "df_g4_math.rename(columns={'Meal Status':'MealStat'}, inplace=True)\n",
    "df_g4_math\n",
    "g4_math_econ_dis = df_g4_math.query('MealStat == \"Reduced\"').MealStat.count()\n",
    "#print(g4_math_econ_dis)\n",
    "g4_math_econ_dis = df_g4_math.query('MealStat == \"Free\"').MealStat.count() + g4_math_econ_dis\n",
    "print(g4_math_econ_dis)\n",
    "total_g4_math = df_g4_math.shape[0]\n",
    "#g4_math_percent_disadvantaged = (g4_math_econ_dis/total_g4_math)*100\n",
    "##print(g4_math_percent_disadvantaged)\n",
    "\n",
    "#get percentage of economically disadvantaged students for grade 4 reading\n",
    "df_g4_read = pd.read_excel(\"Grade4_Compare_AI_with_Expert.xlsx\", \"Reading_Compare_with_JC\")\n",
    "df_g4_read.rename(columns={'Meal Status':'MealStat'}, inplace=True)\n",
    "df_g4_read\n",
    "g4_read_econ_dis = df_g4_read.query('MealStat == \"Reduced\"').MealStat.count()\n",
    "g4_read_econ_dis = df_g4_read.query('MealStat == \"Free\"').MealStat.count() + g4_read_econ_dis\n",
    "print(g4_read_econ_dis)\n",
    "total_g4_read = df_g4_read.shape[0]\n",
    "#g4_read_percent_disadvantaged = (g4_read_econ_dis/total_g4_read)*100\n",
    "#print(g4_read_percent_disadvantaged)\n",
    "\n",
    "#get percentage of economically disadvantaged students for grade 5 math\n",
    "df_g5_math = pd.read_excel(\"Grade5_Predictions_Final.xlsx\", \"Grade5_Math_Predictions_Final\")\n",
    "g5_math_econ_dis = df_g5_math.query('ED == \"02-Reduced\"').ED.count()\n",
    "#print(g5_math_econ_dis)\n",
    "g5_math_econ_dis = df_g5_math.query('ED == \"01-Free\"').ED.count() + g5_math_econ_dis\n",
    "print(g5_math_econ_dis)\n",
    "total_g5_math = df_g5_math.shape[0]\n",
    "g5_math_percent_disadvantaged = (g5_math_econ_dis/total_g5_math)*100\n",
    "#print(g5_math_percent_disadvantaged)\n",
    "\n",
    "\n",
    "#get percentage of economically disadvantaged students for grade 5 reading\n",
    "df_g5_read = pd.read_excel(\"Grade5_Predictions_Final.xlsx\", \"Grade5_Reading_Predictions_Fina\")\n",
    "df_g5_read\n",
    "df_g5_read.rename(columns={'Meal Status':'MealStat'}, inplace=True)\n",
    "df_g5_read\n",
    "g5_read_econ_dis = df_g5_read.query('MealStat == \"02-Reduced\"').MealStat.count()\n",
    "g5_read_econ_dis = df_g5_read.query('MealStat == \"01-Free\"').MealStat.count() + g5_read_econ_dis\n",
    "print(g5_read_econ_dis)\n",
    "total_g5_read = df_g5_read.shape[0]\n",
    "g5_read_percent_disadvantaged = (g5_read_econ_dis/total_g5_read)*100\n",
    "#print(g5_read_percent_disadvantaged)\n",
    "\n",
    "\n",
    "#########Total percent of economically disadvantaged##################\n",
    "#Reading\n",
    "percent_ED_read = ((g4_read_econ_dis + g5_read_econ_dis) / (total_g4_read+total_g5_read))*100\n",
    "print(\"Percent ED Read\",percent_ED_read)\n",
    "\n",
    "#Math\n",
    "percent_ED_math = ((g4_math_econ_dis + g5_math_econ_dis) / (total_g4_math+total_g5_math))*100\n",
    "print(\"Percent ED Math\",percent_ED_math)\n",
    "\n",
    "\n",
    "#### 2B from https://rptsvr1.tea.texas.gov/perfreport/account/2019/scaling_tool.html####\n",
    "\n",
    "#math\n",
    "#90 (A) (inputs: raw math 49 from domain 1 ,percent_ED_math ) ##note input is raw score, not scaled\n",
    "\n",
    "#read\n",
    "#89 (B) (inputs: raw read 47 from domain 1 ,percent_ED_read ) ##note input is raw score, not scaled\n",
    "\n"
   ]
  },
  {
   "cell_type": "code",
   "execution_count": null,
   "metadata": {},
   "outputs": [],
   "source": [
    "#2A calculation"
   ]
  }
 ],
 "metadata": {
  "kernelspec": {
   "display_name": "Python 3",
   "language": "python",
   "name": "python3"
  },
  "language_info": {
   "codemirror_mode": {
    "name": "ipython",
    "version": 3
   },
   "file_extension": ".py",
   "mimetype": "text/x-python",
   "name": "python",
   "nbconvert_exporter": "python",
   "pygments_lexer": "ipython3",
   "version": "3.7.3"
  }
 },
 "nbformat": 4,
 "nbformat_minor": 4
}
