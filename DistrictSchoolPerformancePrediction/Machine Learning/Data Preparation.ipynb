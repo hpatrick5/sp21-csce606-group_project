{
 "cells": [
  {
   "cell_type": "markdown",
   "metadata": {},
   "source": [
    "# Proof of Concept for AI Turnaround Data Report - ELRC\n",
    "## Data Preperation\n",
    "\n",
    "This notebook shows how a common format data was generated from each of the individual files. From now on, this steps should not be done as these are different for each grade.\n",
    "\n",
    "We will be standardazing each grade file format which will be the format that we output data in this file.\n"
   ]
  },
  {
   "cell_type": "code",
   "execution_count": 1,
   "metadata": {},
   "outputs": [],
   "source": [
    "import pandas as pd\n",
    "import numpy as np\n",
    "import os\n",
    "\n",
    "from os import listdir\n",
    "from os.path import isfile, join"
   ]
  },
  {
   "cell_type": "markdown",
   "metadata": {},
   "source": [
    "This is the directory that contains all the data files for all the grades from the customer."
   ]
  },
  {
   "cell_type": "code",
   "execution_count": 2,
   "metadata": {},
   "outputs": [],
   "source": [
    "school_data_directory = \"fromCustomer\""
   ]
  },
  {
   "cell_type": "markdown",
   "metadata": {},
   "source": [
    "### Common Files "
   ]
  },
  {
   "cell_type": "markdown",
   "metadata": {},
   "source": [
    "The continously enrolled file recieved from the customer was for the school year 2019. However, we were looking for the data from the school year 2018. Hence, subtract 1 so that student are in the correct grade for our data.\n"
   ]
  },
  {
   "cell_type": "code",
   "execution_count": 3,
   "metadata": {},
   "outputs": [
    {
     "data": {
      "text/html": [
       "<div>\n",
       "<style scoped>\n",
       "    .dataframe tbody tr th:only-of-type {\n",
       "        vertical-align: middle;\n",
       "    }\n",
       "\n",
       "    .dataframe tbody tr th {\n",
       "        vertical-align: top;\n",
       "    }\n",
       "\n",
       "    .dataframe thead th {\n",
       "        text-align: right;\n",
       "    }\n",
       "</style>\n",
       "<table border=\"1\" class=\"dataframe\">\n",
       "  <thead>\n",
       "    <tr style=\"text-align: right;\">\n",
       "      <th></th>\n",
       "      <th>Local ID</th>\n",
       "      <th>Grade</th>\n",
       "      <th>16-17 PEIMS Campus</th>\n",
       "      <th>17-18 PEIMS Campus</th>\n",
       "      <th>18-19 PEIMS Campus</th>\n",
       "    </tr>\n",
       "  </thead>\n",
       "  <tbody>\n",
       "    <tr>\n",
       "      <th>0</th>\n",
       "      <td>946936</td>\n",
       "      <td>3</td>\n",
       "      <td>122 - Carmichael Elementary School</td>\n",
       "      <td>122 - Carmichael Elementary School</td>\n",
       "      <td>122 - Carmichael Elementary School</td>\n",
       "    </tr>\n",
       "    <tr>\n",
       "      <th>1</th>\n",
       "      <td>931151</td>\n",
       "      <td>4</td>\n",
       "      <td>122 - Carmichael Elementary School</td>\n",
       "      <td>122 - Carmichael Elementary School</td>\n",
       "      <td>122 - Carmichael Elementary School</td>\n",
       "    </tr>\n",
       "    <tr>\n",
       "      <th>2</th>\n",
       "      <td>309600</td>\n",
       "      <td>2</td>\n",
       "      <td>130 - Kujawa Elementary School</td>\n",
       "      <td>130 - Kujawa Elementary School</td>\n",
       "      <td>122 - Carmichael Elementary School</td>\n",
       "    </tr>\n",
       "    <tr>\n",
       "      <th>3</th>\n",
       "      <td>301948</td>\n",
       "      <td>2</td>\n",
       "      <td>122 - Carmichael Elementary School</td>\n",
       "      <td>122 - Carmichael Elementary School</td>\n",
       "      <td>122 - Carmichael Elementary School</td>\n",
       "    </tr>\n",
       "    <tr>\n",
       "      <th>4</th>\n",
       "      <td>966007</td>\n",
       "      <td>4</td>\n",
       "      <td>122 - Carmichael Elementary School</td>\n",
       "      <td>122 - Carmichael Elementary School</td>\n",
       "      <td>122 - Carmichael Elementary School</td>\n",
       "    </tr>\n",
       "  </tbody>\n",
       "</table>\n",
       "</div>"
      ],
      "text/plain": [
       "   Local ID  Grade                  16-17 PEIMS Campus  \\\n",
       "0    946936      3  122 - Carmichael Elementary School   \n",
       "1    931151      4  122 - Carmichael Elementary School   \n",
       "2    309600      2      130 - Kujawa Elementary School   \n",
       "3    301948      2  122 - Carmichael Elementary School   \n",
       "4    966007      4  122 - Carmichael Elementary School   \n",
       "\n",
       "                   17-18 PEIMS Campus                  18-19 PEIMS Campus  \n",
       "0  122 - Carmichael Elementary School  122 - Carmichael Elementary School  \n",
       "1  122 - Carmichael Elementary School  122 - Carmichael Elementary School  \n",
       "2      130 - Kujawa Elementary School  122 - Carmichael Elementary School  \n",
       "3  122 - Carmichael Elementary School  122 - Carmichael Elementary School  \n",
       "4  122 - Carmichael Elementary School  122 - Carmichael Elementary School  "
      ]
     },
     "execution_count": 3,
     "metadata": {},
     "output_type": "execute_result"
    }
   ],
   "source": [
    "continously_enrolled_file = join(school_data_directory, \"Continuously Enrolled Carmichael.xlsx\")\n",
    "df_continously_enrolled = pd.ExcelFile(continously_enrolled_file).parse(\"All Selected Records\",skiprows = 2)\n",
    "df_continously_enrolled = df_continously_enrolled.drop(columns=[\"Student Name\"])\n",
    "df_continously_enrolled[\"Grade\"] = df_continously_enrolled[\"Grade\"] - 1\n",
    "df_continously_enrolled = df_continously_enrolled.rename(columns = {\"Student ID\" : \"Local ID\"}) \n",
    "\n",
    "df_continously_enrolled.head()"
   ]
  },
  {
   "cell_type": "code",
   "execution_count": 4,
   "metadata": {},
   "outputs": [
    {
     "data": {
      "text/html": [
       "<div>\n",
       "<style scoped>\n",
       "    .dataframe tbody tr th:only-of-type {\n",
       "        vertical-align: middle;\n",
       "    }\n",
       "\n",
       "    .dataframe tbody tr th {\n",
       "        vertical-align: top;\n",
       "    }\n",
       "\n",
       "    .dataframe thead th {\n",
       "        text-align: right;\n",
       "    }\n",
       "</style>\n",
       "<table border=\"1\" class=\"dataframe\">\n",
       "  <thead>\n",
       "    <tr style=\"text-align: right;\">\n",
       "      <th></th>\n",
       "      <th>Local ID</th>\n",
       "      <th>Grade</th>\n",
       "      <th>Meal Status</th>\n",
       "      <th>Temp Lunch Status</th>\n",
       "    </tr>\n",
       "  </thead>\n",
       "  <tbody>\n",
       "    <tr>\n",
       "      <th>0</th>\n",
       "      <td>946936</td>\n",
       "      <td>3</td>\n",
       "      <td>01 - Free</td>\n",
       "      <td>NaN</td>\n",
       "    </tr>\n",
       "    <tr>\n",
       "      <th>1</th>\n",
       "      <td>931151</td>\n",
       "      <td>4</td>\n",
       "      <td>01 - Free</td>\n",
       "      <td>NaN</td>\n",
       "    </tr>\n",
       "    <tr>\n",
       "      <th>2</th>\n",
       "      <td>309600</td>\n",
       "      <td>2</td>\n",
       "      <td>01 - Free</td>\n",
       "      <td>Y - Yes</td>\n",
       "    </tr>\n",
       "    <tr>\n",
       "      <th>3</th>\n",
       "      <td>305624</td>\n",
       "      <td>1</td>\n",
       "      <td>01 - Free</td>\n",
       "      <td>NaN</td>\n",
       "    </tr>\n",
       "    <tr>\n",
       "      <th>4</th>\n",
       "      <td>952823</td>\n",
       "      <td>4</td>\n",
       "      <td>01 - Free</td>\n",
       "      <td>NaN</td>\n",
       "    </tr>\n",
       "  </tbody>\n",
       "</table>\n",
       "</div>"
      ],
      "text/plain": [
       "   Local ID  Grade Meal Status Temp Lunch Status\n",
       "0    946936      3   01 - Free               NaN\n",
       "1    931151      4   01 - Free               NaN\n",
       "2    309600      2   01 - Free           Y - Yes\n",
       "3    305624      1   01 - Free               NaN\n",
       "4    952823      4   01 - Free               NaN"
      ]
     },
     "execution_count": 4,
     "metadata": {},
     "output_type": "execute_result"
    }
   ],
   "source": [
    "economically_disadvantaged_file = join(school_data_directory, \"Current ED.xlsx\")\n",
    "df_economically_disadvantaged = pd.ExcelFile(economically_disadvantaged_file).parse(\"All Selected Records\",skiprows = 2)\n",
    "df_economically_disadvantaged = df_economically_disadvantaged.drop(columns=[\"Student Name\"])\n",
    "df_economically_disadvantaged = df_economically_disadvantaged.rename(columns = {\"Student ID\" : \"Local ID\"}) \n",
    "df_economically_disadvantaged.head()"
   ]
  },
  {
   "cell_type": "markdown",
   "metadata": {},
   "source": [
    "## 3rd Grade Data Preperation"
   ]
  },
  {
   "cell_type": "code",
   "execution_count": 5,
   "metadata": {},
   "outputs": [],
   "source": [
    "grade3_directory = join(school_data_directory, '3rd Grade')\n",
    "\n",
    "grade3_math = join(grade3_directory, \"3rd Grade STAAR Math Carmichael.xlsx\")\n",
    "df_grade3_math = pd.ExcelFile(grade3_math).parse(\"Sheet1\", skiprows = 1)\n",
    "\n",
    "grade3_read = join(grade3_directory, \"3rd Grade STAAR RDG Carmichael.xlsx\")\n",
    "df_grade3_read = pd.ExcelFile(grade3_read).parse(\"Sheet1\", skiprows = 1)"
   ]
  },
  {
   "cell_type": "markdown",
   "metadata": {},
   "source": [
    "### Join with the continously enrolled and economically disadvantaged lists."
   ]
  },
  {
   "cell_type": "code",
   "execution_count": 6,
   "metadata": {},
   "outputs": [],
   "source": [
    "df_grade3_math = pd.merge(df_grade3_math, df_economically_disadvantaged[[\"Local ID\",\"Meal Status\"]], how='left', on = \"Local ID\")\n",
    "df_grade3_math = pd.merge(df_grade3_math, df_continously_enrolled[[\"Local ID\",\"16-17 PEIMS Campus\"]], how='left', on = \"Local ID\")\n",
    "df_grade3_math[\"Meal Status\"].fillna(\"No\", inplace=True)\n",
    "df_grade3_math['Continously Enrolled'] = np.where(df_grade3_math['16-17 PEIMS Campus'].isnull(), \"No\",\"Yes\")\n",
    "df_grade3_math = df_grade3_math.drop(columns=[\"16-17 PEIMS Campus\"])"
   ]
  },
  {
   "cell_type": "markdown",
   "metadata": {},
   "source": [
    "### Fix all the column names"
   ]
  },
  {
   "cell_type": "code",
   "execution_count": 7,
   "metadata": {},
   "outputs": [],
   "source": [
    "df_grade3_math[[\"Raw Score.4\",\"Percent Score.4\",\"Approaches.4\", \"Meets.4\", \"Masters.4\", \"Date Taken.4\"]] \\\n",
    "= df_grade3_math[[\"Raw Score.2\",\"Percent Score.2\",\"Approaches.2\", \"Meets.2\", \"Masters.2\", \"Date Taken.2\"]]\n",
    "\n",
    "df_grade3_math[[\"Raw Score.5\",\"Percent Score.5\",\"Approaches.5\", \"Meets.5\", \"Masters.5\", \"Date Taken.5\"]] \\\n",
    "= df_grade3_math[[\"Raw Score.3\",\"Percent Score.3\",\"Approaches.3\", \"Meets.3\", \"Masters.3\" , \"Date Taken.3\"]]\n",
    "\n",
    "df_grade3_math[[\"Raw Score.2\",\"Percent Score.2\",\"Approaches.2\", \"Meets.2\", \"Masters.2\", \"Date Taken.2\"]] \\\n",
    "= df_grade3_math[[\"Raw Score.1\",\"Percent Score.1\",\"Approaches.1\", \"Meets.1\", \"Masters.1\", \"Date Taken.1\"]]\n",
    "\n",
    "df_grade3_math[[\"Raw Score.1\",\"Percent Score.1\",\"Approaches.1\", \"Meets.1\", \"Masters.1\", \"Date Taken.1\"]]  = \"-\"\n",
    "df_grade3_math[[\"Raw Score.3\",\"Percent Score.3\",\"Approaches.3\", \"Meets.3\", \"Masters.3\", \"Date Taken.3\"]]  = \"-\""
   ]
  },
  {
   "cell_type": "code",
   "execution_count": 8,
   "metadata": {},
   "outputs": [],
   "source": [
    "df_grade3_column_order = ['Local ID', 'Special Ed Indicator', 'LEP', 'Ethnicity', 'Meal Status', 'Continously Enrolled', \\\n",
    "'Raw Score', 'Percent Score', 'Approaches', 'Meets', 'Masters', 'Date Taken', \\\n",
    "'Raw Score.1', 'Percent Score.1', 'Approaches.1', 'Meets.1','Masters.1', 'Date Taken.1', \\\n",
    "'Raw Score.2', 'Percent Score.2', 'Approaches.2', 'Meets.2', 'Masters.2', 'Date Taken.2', \\\n",
    "'Raw Score.3', 'Percent Score.3', 'Approaches.3', 'Meets.3', 'Masters.3', 'Date Taken.3', \\\n",
    "'Raw Score.4','Percent Score.4', 'Approaches.4', 'Meets.4', 'Masters.4', 'Date Taken.4', \\\n",
    "'Raw Score.5', 'Percent Score.5', 'Approaches.5','Meets.5', 'Masters.5', 'Date Taken.5']"
   ]
  },
  {
   "cell_type": "code",
   "execution_count": 9,
   "metadata": {},
   "outputs": [],
   "source": [
    "df_temp = pd.DataFrame({'a':[np.nan]})\n",
    "df_temp.to_csv((join(grade3_directory, \"__3rd Grade STAAR Math Carmichael Final.csv\")), index=False, header = None)\n",
    "df_grade3_math.to_csv((join(grade3_directory, \"__3rd Grade STAAR Math Carmichael Final.csv\")),mode = 'a', columns = df_grade3_column_order)"
   ]
  },
  {
   "cell_type": "markdown",
   "metadata": {},
   "source": [
    "### Merge the continoulsy enrolled and economically disadvantaged data."
   ]
  },
  {
   "cell_type": "code",
   "execution_count": 10,
   "metadata": {},
   "outputs": [],
   "source": [
    "df_grade3_read = pd.merge(df_grade3_read, df_economically_disadvantaged[[\"Local ID\",\"Meal Status\"]], how='left', on = \"Local ID\")\n",
    "df_grade3_read = pd.merge(df_grade3_read, df_continously_enrolled[[\"Local ID\",\"16-17 PEIMS Campus\"]], how='left', on = \"Local ID\")\n",
    "df_grade3_read[\"Meal Status\"].fillna(\"No\", inplace=True)\n",
    "df_grade3_read['Continously Enrolled'] = np.where(df_grade3_read['16-17 PEIMS Campus'].isnull(), \"No\",\"Yes\")\n",
    "df_grade3_read = df_grade3_read.drop(columns=[\"16-17 PEIMS Campus\"])"
   ]
  },
  {
   "cell_type": "code",
   "execution_count": 11,
   "metadata": {},
   "outputs": [],
   "source": [
    "df_grade3_read[[\"Raw Score.4\",\"Percent Score.4\",\"Approaches.4\", \"Meets.4\", \"Masters.4\", \"Date Taken.4\"]] \\\n",
    "= df_grade3_read[[\"Raw Score.2\",\"Percent Score.2\",\"Approaches.2\", \"Meets.2\", \"Masters.2\", \"Date Taken.2\"]]\n",
    "\n",
    "df_grade3_read[[\"Raw Score.5\",\"Percent Score.5\",\"Approaches.5\", \"Meets.5\", \"Masters.5\", \"Date Taken.5\"]] \\\n",
    "= df_grade3_read[[\"Raw Score.3\",\"Percent Score.3\",\"Approaches.3\", \"Meets.3\", \"Masters.3\" , \"Date Taken.3\"]]\n",
    "\n",
    "df_grade3_read[[\"Raw Score.2\",\"Percent Score.2\",\"Approaches.2\", \"Meets.2\", \"Masters.2\", \"Date Taken.2\"]] \\\n",
    "= df_grade3_read[[\"Raw Score.1\",\"Percent Score.1\",\"Approaches.1\", \"Meets.1\", \"Masters.1\", \"Date Taken.1\"]]\n",
    "\n",
    "df_grade3_read[[\"Raw Score.1\",\"Percent Score.1\",\"Approaches.1\", \"Meets.1\", \"Masters.1\", \"Date Taken.1\"]]  = \"-\"\n",
    "df_grade3_read[[\"Raw Score.3\",\"Percent Score.3\",\"Approaches.3\", \"Meets.3\", \"Masters.3\", \"Date Taken.3\"]]  = \"-\""
   ]
  },
  {
   "cell_type": "code",
   "execution_count": 12,
   "metadata": {},
   "outputs": [],
   "source": [
    "df_temp = pd.DataFrame({'a':[np.nan]})\n",
    "df_temp.to_csv((join(grade3_directory, \"__3rd Grade STAAR RDG Carmichael Final.csv\")), index=False, header = None)\n",
    "df_grade3_read.to_csv((join(grade3_directory, \"__3rd Grade STAAR RDG Carmichael Final.csv\")),mode='a', columns = df_grade3_column_order)"
   ]
  },
  {
   "cell_type": "markdown",
   "metadata": {},
   "source": [
    "## 4th Grade Preparation"
   ]
  },
  {
   "cell_type": "code",
   "execution_count": 13,
   "metadata": {},
   "outputs": [],
   "source": [
    "grade4_directory = join(school_data_directory, '4th Grade')\n",
    "grade4_previous_year = join(grade4_directory,'3rd 2018 RDG Math STAAR Data.xlsx')\n",
    "grade4_final_year = join(grade4_directory,'4th 2019 RDG Math STAAR Data.xlsx')\n",
    "grade4_mock_1 = join(grade4_directory,'4th Gr. Fall 2018 Practice STAAR.xlsx')\n",
    "grade4_mock_2 = join(grade4_directory,'4th Gr. Spring 2019 Practice STAAR.xlsx')\n",
    "\n",
    "\n",
    "df_grade4_previous_year = pd.ExcelFile(grade4_previous_year).parse(\"ABC Order\", skiprows = 1).drop(columns=\"Student Name\")\n",
    "df_grade4_final_year = pd.ExcelFile(grade4_final_year).parse(\"Sheet1\", skiprows = 1).drop(columns=\"Student Name\")\n",
    "df_grade4_mock_1 = pd.ExcelFile(grade4_mock_1).parse(\"Sheet1\", skiprows = 1).drop(columns=\"Student Name\")\n",
    "df_grade4_mock_2 = pd.ExcelFile(grade4_mock_2).parse(\"Sheet1\", skiprows = 1).drop(columns=\"Student Name\")"
   ]
  },
  {
   "cell_type": "markdown",
   "metadata": {},
   "source": [
    "### Fix the column names for each of the 4th Grade data"
   ]
  },
  {
   "cell_type": "code",
   "execution_count": 14,
   "metadata": {},
   "outputs": [],
   "source": [
    "df_grade4_final_year = df_grade4_final_year.drop(columns=['Scale Score', 'Scale Score.1', 'Scale Score.2', 'Scale Score.3'])"
   ]
  },
  {
   "cell_type": "code",
   "execution_count": 15,
   "metadata": {},
   "outputs": [],
   "source": [
    "df_grade4_previous_year = df_grade4_previous_year.drop(columns=['Sped Indicator', 'LEP', 'Gender', 'Ethnicity'])\n",
    "df_grade4_previous_year.columns = ['Local ID', 'Raw Score',\n",
    "       'Scale Score', 'Percent Score', 'Approaches', 'Meets',\n",
    "       'Masters', 'Raw Score.1', 'Scale Score.1', 'Percent Score.1',\n",
    "       'Approaches.1', 'Meets.1', 'Masters.1', 'Raw Score.2',\n",
    "       'Scale Score.2', 'Percent Score.2', 'Approaches.2', 'Meets.2',\n",
    "       'Masters.2', 'Raw Score.3', 'Scale Score.3', 'Percent Score.3',\n",
    "       'Approaches.3', 'Meets.3', 'Masters.3']\n",
    "df_grade4_previous_year = df_grade4_previous_year.drop(columns=['Scale Score', 'Scale Score.1', 'Scale Score.2', 'Scale Score.3'])\n"
   ]
  },
  {
   "cell_type": "code",
   "execution_count": 16,
   "metadata": {},
   "outputs": [],
   "source": [
    "df_grade4_mock_1 = df_grade4_mock_1.drop(columns=['Special Ed Indicator', 'LEP', 'Ethnicity'])\n",
    "df_grade4_mock_1.columns = ['Local ID', 'Raw Score',\n",
    "       'Percent Score', 'Approaches', 'Meets',\n",
    "       'Masters', 'Date Taken', 'Raw Score.1', 'Percent Score.1',\n",
    "       'Approaches.1', 'Meets.1', 'Masters.1',\n",
    "       'Date Taken.1', 'Raw Score.2', 'Percent Score.2',\n",
    "       'Approaches.2', 'Meets.2', 'Masters.2',\n",
    "       'Date Taken.2']"
   ]
  },
  {
   "cell_type": "code",
   "execution_count": 17,
   "metadata": {},
   "outputs": [],
   "source": [
    "df_grade4_mock_2 = df_grade4_mock_2.drop(columns=['Special Ed Indicator', 'LEP', 'Ethnicity'])\n",
    "df_grade4_mock_2.columns = ['Local ID', 'Raw Score',\n",
    "       'Percent Score', 'Approaches', 'Meets',\n",
    "       'Masters', 'Date Taken', 'Raw Score.1', 'Percent Score.1',\n",
    "       'Approaches.1', 'Meets.1', 'Masters.1',\n",
    "       'Date Taken.1', 'Raw Score.2', 'Percent Score.2',\n",
    "       'Approaches.2', 'Meets.2', 'Masters.2',\n",
    "       'Date Taken.2']"
   ]
  },
  {
   "cell_type": "markdown",
   "metadata": {},
   "source": [
    "### Merge the continously enrolled and economically disadvantaged data"
   ]
  },
  {
   "cell_type": "code",
   "execution_count": 18,
   "metadata": {},
   "outputs": [],
   "source": [
    "df_grade4_final_year = pd.merge(df_grade4_final_year, df_economically_disadvantaged[[\"Local ID\",\"Meal Status\"]], how='left', on = \"Local ID\")\n",
    "df_grade4_final_year = pd.merge(df_grade4_final_year, df_continously_enrolled[[\"Local ID\",\"16-17 PEIMS Campus\"]], how='left', on = \"Local ID\")\n",
    "df_grade4_final_year[\"Meal Status\"].fillna(\"No\", inplace=True)\n",
    "df_grade4_final_year['Continously Enrolled'] = np.where(df_grade4_final_year['16-17 PEIMS Campus'].isnull(), \"No\",\"Yes\")\n",
    "df_grade4_final_year = df_grade4_final_year.drop(columns=[\"16-17 PEIMS Campus\"])"
   ]
  },
  {
   "cell_type": "markdown",
   "metadata": {},
   "source": [
    "### Merge all the exam data"
   ]
  },
  {
   "cell_type": "code",
   "execution_count": 19,
   "metadata": {},
   "outputs": [],
   "source": [
    "df_grade4_final_year = pd.merge(df_grade4_final_year, df_grade4_previous_year, how = 'left', on = \"Local ID\", suffixes = [\"\",\"_prev\"])\n",
    "df_grade4_final_year = pd.merge(df_grade4_final_year, df_grade4_mock_1, how = 'left', on = \"Local ID\", suffixes = [\"\",\"_mock1\"])\n",
    "df_grade4_final_year = pd.merge(df_grade4_final_year, df_grade4_mock_2, how = 'left', on = \"Local ID\", suffixes = [\"\",\"_mock2\"])"
   ]
  },
  {
   "cell_type": "markdown",
   "metadata": {},
   "source": [
    "### Prepare math data."
   ]
  },
  {
   "cell_type": "code",
   "execution_count": 20,
   "metadata": {},
   "outputs": [],
   "source": [
    "df_grade4_math = df_grade4_final_year.copy()\n",
    "drop_list_math = [\"Raw Score\", \"Percent Score\", \"Approaches\", \"Meets\",  \"Masters\", \"Date Taken\"]\n",
    "drop_list_math.extend([\"Raw Score.1\", \"Percent Score.1\", \"Approaches.1\", \"Meets.1\",  \"Masters.1\", \"Date Taken.1\"])\n",
    "drop_list_math.extend([\"Raw Score.2_prev\", \"Percent Score.2_prev\", \"Approaches.2_prev\", \"Meets.2_prev\",  \"Masters.2_prev\"])\n",
    "drop_list_math.extend([\"Raw Score.3_prev\", \"Percent Score.3_prev\", \"Approaches.3_prev\", \"Meets.3_prev\",  \"Masters.3_prev\"])\n",
    "drop_list_math.extend([\"Raw Score_mock1\", \"Percent Score_mock1\", \"Approaches_mock1\", \"Meets_mock1\",  \"Masters_mock1\", \"Date Taken_mock1\"])\n",
    "drop_list_math.extend([\"Raw Score_mock2\", \"Percent Score_mock2\", \"Approaches_mock2\", \"Meets_mock2\",  \"Masters_mock2\", \"Date Taken_mock2\"])\n",
    "drop_list_math.extend([\"Raw Score.1_mock1\", \"Percent Score.1_mock1\", \"Approaches.1_mock1\", \"Meets.1_mock1\",  \"Masters.1_mock1\", \"Date Taken.1_mock1\"])\n",
    "drop_list_math.extend([\"Raw Score.1_mock2\", \"Percent Score.1_mock2\", \"Approaches.1_mock2\", \"Meets.1_mock2\",  \"Masters.1_mock2\", \"Date Taken.1_mock2\"])\n",
    "\n",
    "df_grade4_math = df_grade4_math.drop(columns=drop_list_math)"
   ]
  },
  {
   "cell_type": "code",
   "execution_count": 21,
   "metadata": {},
   "outputs": [],
   "source": [
    "df_grade4_math[[\"Raw Score.6\",\"Percent Score.6\",\"Approaches.6\", \"Meets.6\", \"Masters.6\", \"Date Taken.6\"]] \\\n",
    "= df_grade4_math[[\"Raw Score.2\",\"Percent Score.2\",\"Approaches.2\", \"Meets.2\", \"Masters.2\", \"Date Taken.2\"]]\n",
    "\n",
    "df_grade4_math[[\"Raw Score.7\",\"Percent Score.7\",\"Approaches.7\", \"Meets.7\", \"Masters.7\", \"Date Taken.7\"]] \\\n",
    "= df_grade4_math[[\"Raw Score.3\",\"Percent Score.3\",\"Approaches.3\", \"Meets.3\", \"Masters.3\" , \"Date Taken.3\"]]\n",
    "\n",
    "df_grade4_math[[\"Raw Score\",\"Percent Score\",\"Approaches\", \"Meets\", \"Masters\"]] \\\n",
    "= df_grade4_math[[\"Raw Score.1_prev\",\"Percent Score.1_prev\",\"Approaches.1_prev\", \"Meets.1_prev\", \"Masters.1_prev\"]]\n",
    "\n",
    "df_grade4_math[[\"Raw Score.1\",\"Percent Score.1\",\"Approaches.1\", \"Meets.1\", \"Masters.1\"]] \\\n",
    "= df_grade4_math[[\"Raw Score_prev\",\"Percent Score_prev\",\"Approaches_prev\", \"Meets_prev\", \"Masters_prev\"]]\n",
    "\n",
    "df_grade4_math[[\"Raw Score.2\",\"Percent Score.2\",\"Approaches.2\", \"Meets.2\", \"Masters.2\", \"Date Taken.2\"]] \\\n",
    "= df_grade4_math[[\"Raw Score.2_mock1\",\"Percent Score.2_mock1\",\"Approaches.2_mock1\", \"Meets.2_mock1\", \"Masters.2_mock1\", \"Date Taken.2_mock1\"]]\n",
    "\n",
    "df_grade4_math[[\"Raw Score.4\",\"Percent Score.4\",\"Approaches.4\", \"Meets.4\", \"Masters.4\", \"Date Taken.4\"]] \\\n",
    "= df_grade4_math[[\"Raw Score.2_mock2\",\"Percent Score.2_mock2\",\"Approaches.2_mock2\", \"Meets.2_mock2\", \"Masters.2_mock2\", \"Date Taken.2_mock2\"]]\n",
    "\n",
    "df_grade4_math[[\"Raw Score.3\",\"Percent Score.3\",\"Approaches.3\", \"Meets.3\", \"Masters.3\", \"Date Taken.3\"]]  = \"-\"\n",
    "df_grade4_math[[\"Raw Score.5\",\"Percent Score.5\",\"Approaches.5\", \"Meets.5\", \"Masters.5\", \"Date Taken.5\"]]  \\\n",
    "= pd.DataFrame([['-'] * 6], index=df_grade4_math.index)\n",
    "\n",
    "\n",
    "drop_remaining = [\"Raw Score.1_prev\",\"Percent Score.1_prev\",\"Approaches.1_prev\", \"Meets.1_prev\", \"Masters.1_prev\", \\\n",
    "                 \"Raw Score_prev\",\"Percent Score_prev\",\"Approaches_prev\", \"Meets_prev\", \"Masters_prev\",\\\n",
    "                 \"Raw Score.2_mock1\",\"Percent Score.2_mock1\",\"Approaches.2_mock1\", \"Meets.2_mock1\", \"Masters.2_mock1\", \"Date Taken.2_mock1\",\\\n",
    "                 \"Raw Score.2_mock2\",\"Percent Score.2_mock2\",\"Approaches.2_mock2\", \"Meets.2_mock2\", \"Masters.2_mock2\", \"Date Taken.2_mock2\"]\n",
    "\n",
    "df_grade4_math = df_grade4_math.drop(columns = drop_remaining)"
   ]
  },
  {
   "cell_type": "code",
   "execution_count": 22,
   "metadata": {},
   "outputs": [],
   "source": [
    "df_grade4_column_order = ['Local ID', 'Special Ed Indicator', 'LEP', 'Ethnicity', 'Meal Status', 'Continously Enrolled', \\\n",
    "'Raw Score', 'Percent Score', 'Approaches', 'Meets', 'Masters', \\\n",
    "'Raw Score.1', 'Percent Score.1', 'Approaches.1', 'Meets.1','Masters.1', \\\n",
    "'Raw Score.2', 'Percent Score.2', 'Approaches.2', 'Meets.2', 'Masters.2', 'Date Taken.2', \\\n",
    "'Raw Score.3', 'Percent Score.3', 'Approaches.3', 'Meets.3', 'Masters.3', 'Date Taken.3', \\\n",
    "'Raw Score.4','Percent Score.4', 'Approaches.4', 'Meets.4', 'Masters.4', 'Date Taken.4', \\\n",
    "'Raw Score.5', 'Percent Score.5', 'Approaches.5','Meets.5', 'Masters.5', 'Date Taken.5',\\\n",
    "'Raw Score.6','Percent Score.6', 'Approaches.6', 'Meets.6', 'Masters.6', 'Date Taken.6', \\\n",
    "'Raw Score.7','Percent Score.7', 'Approaches.7', 'Meets.7', 'Masters.7', 'Date Taken.7']"
   ]
  },
  {
   "cell_type": "code",
   "execution_count": 23,
   "metadata": {},
   "outputs": [],
   "source": [
    "df_temp = pd.DataFrame({'a':[np.nan]})\n",
    "df_temp.to_csv((join(grade4_directory, \"__4th Grade STAAR Math Carmichael Final.csv\")), index=False, header = None)\n",
    "df_grade4_math.to_csv((join(grade4_directory, \"__4th Grade STAAR Math Carmichael Final.csv\")),mode='a', columns = df_grade4_column_order)"
   ]
  },
  {
   "cell_type": "markdown",
   "metadata": {},
   "source": [
    "### Prepare Reading Data"
   ]
  },
  {
   "cell_type": "code",
   "execution_count": 24,
   "metadata": {},
   "outputs": [],
   "source": [
    "keep_list_read = drop_list_math.copy()\n",
    "keep_list_read.extend(['Local ID', 'Special Ed Indicator', 'LEP', 'Ethnicity','Meal Status', 'Continously Enrolled'])\n",
    "df_grade4_read = df_grade4_final_year[keep_list_read].copy()"
   ]
  },
  {
   "cell_type": "code",
   "execution_count": 25,
   "metadata": {},
   "outputs": [],
   "source": [
    "df_grade4_read[[\"Raw Score.6\",\"Percent Score.6\",\"Approaches.6\", \"Meets.6\", \"Masters.6\", \"Date Taken.6\"]] \\\n",
    "= df_grade4_read[[\"Raw Score\",\"Percent Score\",\"Approaches\", \"Meets\", \"Masters\", \"Date Taken\"]]\n",
    "\n",
    "df_grade4_read[[\"Raw Score.7\",\"Percent Score.7\",\"Approaches.7\", \"Meets.7\", \"Masters.7\", \"Date Taken.7\"]] \\\n",
    "= df_grade4_read[[\"Raw Score.1\",\"Percent Score.1\",\"Approaches.1\", \"Meets.1\", \"Masters.1\" , \"Date Taken.1\"]]\n",
    "\n",
    "df_grade4_read[[\"Raw Score\",\"Percent Score\",\"Approaches\", \"Meets\", \"Masters\"]] \\\n",
    "= df_grade4_read[[\"Raw Score.3_prev\",\"Percent Score.3_prev\",\"Approaches.3_prev\", \"Meets.3_prev\", \"Masters.3_prev\"]]\n",
    "\n",
    "df_grade4_read[[\"Raw Score.1\",\"Percent Score.1\",\"Approaches.1\", \"Meets.1\", \"Masters.1\"]] \\\n",
    "= df_grade4_read[[\"Raw Score.2_prev\",\"Percent Score.2_prev\",\"Approaches.2_prev\", \"Meets.2_prev\", \"Masters.2_prev\"]]\n",
    "\n",
    "df_grade4_read[[\"Raw Score.2\",\"Percent Score.2\",\"Approaches.2\", \"Meets.2\", \"Masters.2\", \"Date Taken.2\"]] \\\n",
    "= df_grade4_read[[\"Raw Score_mock1\",\"Percent Score_mock1\",\"Approaches_mock1\", \"Meets_mock1\", \"Masters_mock1\", \"Date Taken_mock1\"]]\n",
    "\n",
    "df_grade4_read[[\"Raw Score.3\",\"Percent Score.3\",\"Approaches.3\", \"Meets.3\", \"Masters.3\", \"Date Taken.3\"]]  \\\n",
    "= df_grade4_read[[\"Raw Score.1_mock1\",\"Percent Score.1_mock1\",\"Approaches.1_mock1\", \"Meets.1_mock1\", \"Masters.1_mock1\", \"Date Taken.1_mock1\"]]\n",
    "\n",
    "df_grade4_read[[\"Raw Score.4\",\"Percent Score.4\",\"Approaches.4\", \"Meets.4\", \"Masters.4\", \"Date Taken.4\"]] \\\n",
    "= df_grade4_read[[\"Raw Score_mock2\",\"Percent Score_mock2\",\"Approaches_mock2\", \"Meets_mock2\", \"Masters_mock2\", \"Date Taken_mock2\"]]\n",
    "\n",
    "df_grade4_read[[\"Raw Score.5\",\"Percent Score.5\",\"Approaches.5\", \"Meets.5\", \"Masters.5\", \"Date Taken.5\"]]  \\\n",
    "= df_grade4_read[[\"Raw Score.1_mock2\",\"Percent Score.1_mock2\",\"Approaches.1_mock2\", \"Meets.1_mock2\", \"Masters.1_mock2\", \"Date Taken.1_mock2\"]]\n",
    "\n",
    "drop_remaining = [\"Raw Score.3_prev\",\"Percent Score.3_prev\",\"Approaches.3_prev\", \"Meets.3_prev\", \"Masters.3_prev\",\\\n",
    "                 \"Raw Score.2_prev\",\"Percent Score.2_prev\",\"Approaches.2_prev\", \"Meets.2_prev\", \"Masters.2_prev\",\\\n",
    "                 \"Raw Score_mock1\",\"Percent Score_mock1\",\"Approaches_mock1\", \"Meets_mock1\", \"Masters_mock1\", \"Date Taken_mock1\",\\\n",
    "                 \"Raw Score.1_mock1\",\"Percent Score.1_mock1\",\"Approaches.1_mock1\", \"Meets.1_mock1\", \"Masters.1_mock1\", \"Date Taken.1_mock1\",\n",
    "                 \"Raw Score_mock2\",\"Percent Score_mock2\",\"Approaches_mock2\", \"Meets_mock2\", \"Masters_mock2\", \"Date Taken_mock2\",\n",
    "                 \"Raw Score.1_mock2\",\"Percent Score.1_mock2\",\"Approaches.1_mock2\", \"Meets.1_mock2\", \"Masters.1_mock2\", \"Date Taken.1_mock2\"]\n",
    "\n",
    "df_grade4_read = df_grade4_read.drop(columns = drop_remaining)"
   ]
  },
  {
   "cell_type": "code",
   "execution_count": 26,
   "metadata": {},
   "outputs": [],
   "source": [
    "df_temp = pd.DataFrame({'a':[np.nan]})\n",
    "df_temp.to_csv((join(grade4_directory, \"__4th Grade STAAR RDG Carmichael Final.csv\")), index=False, header = None)\n",
    "df_grade4_read.to_csv((join(grade4_directory, \"__4th Grade STAAR RDG Carmichael Final.csv\")),mode='a', columns = df_grade4_column_order)"
   ]
  },
  {
   "cell_type": "markdown",
   "metadata": {},
   "source": [
    "## 5th Grade Preparation"
   ]
  },
  {
   "cell_type": "code",
   "execution_count": 27,
   "metadata": {},
   "outputs": [],
   "source": [
    "grade5_directory = join(school_data_directory, '5th Grade')\n",
    "grade5_previous_year = join(grade5_directory,'Carmichael fourth grade end of year 2018.xlsx')\n",
    "grade5_read = join(grade5_directory,'Carmichael fifth grade 2019 (reading).xlsx')\n",
    "grade5_math = join(grade5_directory,'2019 STAAR Math Data.xlsx')\n",
    "\n",
    "df_grade5_previous_year = pd.ExcelFile(grade5_previous_year).parse(\"Sheet1\", skiprows = 1)\n",
    "df_grade5_read = pd.ExcelFile(grade5_read).parse(\"Sheet1\", skiprows = 1)\n",
    "df_grade5_math = pd.ExcelFile(grade5_math).parse(\"Sheet1\", skiprows = 1)"
   ]
  },
  {
   "cell_type": "code",
   "execution_count": 28,
   "metadata": {},
   "outputs": [],
   "source": [
    "df_grade5_previous_year.columns = ['Local ID', 'Special Ed Indicator', 'LEP', 'Ethnicity', 'Raw Score', \\\n",
    "       'Percent Score', 'Approaches', 'Meets', 'Masters',\\\n",
    "       'Date Taken', 'Raw Score.1', 'Percent Score.1',\\\n",
    "       'Approaches.1', 'Meets.1', 'Masters.1', 'Date Taken.1',\\\n",
    "       'Raw Score.2', 'Percent Score.2', 'Approaches.2', 'Meets.2',\\\n",
    "       'Masters.2', 'Date Taken.2', 'Raw Score.3', 'Percent Score.3',\\\n",
    "       'Approaches.3', 'Meets.3', 'Masters.3', 'Date Taken.3']\n",
    "\n",
    "df_grade5_previous_year = df_grade5_previous_year.drop(columns = ['Special Ed Indicator', 'LEP', 'Ethnicity'])\n",
    "df_grade5_previous_year_read = df_grade5_previous_year.copy()\n",
    "df_grade5_previous_year_read = df_grade5_previous_year_read.drop(columns= ['Raw Score.2', 'Percent Score.2', 'Approaches.2', 'Meets.2',\\\n",
    "       'Masters.2', 'Date Taken.2', 'Raw Score.3', 'Percent Score.3', 'Approaches.3', 'Meets.3', 'Masters.3', 'Date Taken.3'])\n",
    "\n",
    "df_grade5_previous_year_math = df_grade5_previous_year.copy()\n",
    "\n",
    "df_grade5_previous_year_math[[\"Raw Score\",\"Percent Score\",\"Approaches\", \"Meets\", \"Masters\", \"Date Taken\"]] \\\n",
    "= df_grade5_previous_year_math[[\"Raw Score.2\",\"Percent Score.2\",\"Approaches.2\", \"Meets.2\", \"Masters.2\", \"Date Taken.2\"]]\n",
    "\n",
    "df_grade5_previous_year_math[[\"Raw Score.1\",\"Percent Score.1\",\"Approaches.1\", \"Meets.1\", \"Masters.1\", \"Date Taken.1\"]] \\\n",
    "= df_grade5_previous_year_math[[\"Raw Score.3\",\"Percent Score.3\",\"Approaches.3\", \"Meets.3\", \"Masters.3\" , \"Date Taken.3\"]]\n",
    "\n",
    "df_grade5_previous_year_math = df_grade5_previous_year_math.drop(columns= ['Raw Score.2', 'Percent Score.2', 'Approaches.2', 'Meets.2',\\\n",
    "       'Masters.2', 'Date Taken.2', 'Raw Score.3', 'Percent Score.3', 'Approaches.3', 'Meets.3', 'Masters.3', 'Date Taken.3'])"
   ]
  },
  {
   "cell_type": "code",
   "execution_count": 29,
   "metadata": {},
   "outputs": [],
   "source": [
    "df_grade5_read = df_grade5_read.drop(columns =  ['Raw Score.6', 'Percent Score.6', 'Approaches Grade Level.6', 'Satisfactory.2', \\\n",
    "       'Meets.5', 'Date Taken.6', 'Raw Score.7', 'Percent Score.7', \\\n",
    "       'Approaches Grade Level.7', 'Satisfactory.3', 'Meets.6', 'Date Taken.7', \\\n",
    "       'Raw Score.8', 'Percent Score.8', 'Approaches Grade Level.8',\\\n",
    "       'Satisfactory.4', 'Meets.7', 'Date Taken.8'])"
   ]
  },
  {
   "cell_type": "code",
   "execution_count": 30,
   "metadata": {},
   "outputs": [],
   "source": [
    "df_grade5_read.columns = ['Local ID', 'Special Ed Indicator', 'LEP', 'Ethnicity', \\\n",
    "                          'Raw Score.2', 'Percent Score.2','Approaches.2', 'Meets.2', 'Masters.2', 'Date Taken.2',\\\n",
    "                          'Raw Score.3', 'Percent Score.3','Approaches.3', 'Meets.3', 'Masters.3', 'Date Taken.3',\\\n",
    "                          'Raw Score.4', 'Percent Score.4', 'Approaches.4', 'Meets.4', 'Masters.4', 'Date Taken.4',\\\n",
    "                          'Raw Score.5', 'Percent Score.5', 'Approaches.5', 'Meets.5', 'Masters.5', 'Date Taken.5',\\\n",
    "                          'Raw Score.6', 'Percent Score.6', 'Approaches.6', 'Meets.6', 'Masters.6', 'Date Taken.6',\\\n",
    "                          'Raw Score.7', 'Percent Score.7', 'Approaches.7', 'Meets.7', 'Masters.7', 'Date Taken.7']"
   ]
  },
  {
   "cell_type": "code",
   "execution_count": 31,
   "metadata": {},
   "outputs": [],
   "source": [
    "df_grade5_read = pd.merge(df_grade5_read, df_grade5_previous_year_read, how = 'left', on = \"Local ID\", suffixes = [\"\",\"_prev\"])"
   ]
  },
  {
   "cell_type": "code",
   "execution_count": 32,
   "metadata": {},
   "outputs": [],
   "source": [
    "df_grade5_read = pd.merge(df_grade5_read, df_economically_disadvantaged[[\"Local ID\",\"Meal Status\"]], how='left', on = \"Local ID\")\n",
    "df_grade5_read = pd.merge(df_grade5_read, df_continously_enrolled[[\"Local ID\",\"16-17 PEIMS Campus\"]], how='left', on = \"Local ID\")\n",
    "df_grade5_read[\"Meal Status\"].fillna(\"No\", inplace=True)\n",
    "df_grade5_read['Continously Enrolled'] = np.where(df_grade5_read['16-17 PEIMS Campus'].isnull(), \"No\",\"Yes\")\n",
    "df_grade5_read = df_grade5_read.drop(columns=[\"16-17 PEIMS Campus\"])"
   ]
  },
  {
   "cell_type": "code",
   "execution_count": 33,
   "metadata": {},
   "outputs": [],
   "source": [
    "grade5_column_order = ['Local ID', 'Special Ed Indicator', 'LEP', 'Ethnicity', 'Meal Status', 'Continously Enrolled', \\\n",
    "'Raw Score', 'Percent Score', 'Approaches', 'Meets', 'Masters', 'Date Taken', \\\n",
    "'Raw Score.1','Percent Score.1', 'Approaches.1', 'Meets.1', 'Masters.1','Date Taken.1' \\\n",
    "'Raw Score.2', 'Percent Score.2', 'Approaches.2', 'Meets.2', 'Masters.2', 'Date Taken.2',\\\n",
    "'Raw Score.3', 'Percent Score.3', 'Approaches.3','Meets.3', 'Masters.3', 'Date Taken.3',\\\n",
    "'Raw Score.4', 'Percent Score.4', 'Approaches.4', 'Meets.4', 'Masters.4', 'Date Taken.4',\\\n",
    "'Raw Score.5', 'Percent Score.5', 'Approaches.5', 'Meets.5', 'Masters.5', 'Date Taken.5',\\\n",
    "'Raw Score.6', 'Percent Score.6', 'Approaches.6', 'Meets.6', 'Masters.6', 'Date Taken.6',\\\n",
    "'Raw Score.7', 'Percent Score.7', 'Approaches.7','Meets.7', 'Masters.7', 'Date Taken.7']"
   ]
  },
  {
   "cell_type": "code",
   "execution_count": 34,
   "metadata": {},
   "outputs": [
    {
     "name": "stderr",
     "output_type": "stream",
     "text": [
      "C:\\Users\\shubh\\Anaconda3\\lib\\site-packages\\pandas\\core\\indexing.py:1494: FutureWarning: \n",
      "Passing list-likes to .loc or [] with any missing label will raise\n",
      "KeyError in the future, you can use .reindex() as an alternative.\n",
      "\n",
      "See the documentation here:\n",
      "https://pandas.pydata.org/pandas-docs/stable/indexing.html#deprecate-loc-reindex-listlike\n",
      "  return self._getitem_tuple(key)\n"
     ]
    }
   ],
   "source": [
    "df_temp = pd.DataFrame({'a':[np.nan]})\n",
    "df_temp.to_csv((join(grade5_directory, \"__5th Grade STAAR RDG Carmichael Final.csv\")), index=False, header = None)\n",
    "df_grade5_read.to_csv((join(grade5_directory, \"__5th Grade STAAR RDG Carmichael Final.csv\")),mode='a', columns = grade5_column_order)"
   ]
  },
  {
   "cell_type": "markdown",
   "metadata": {},
   "source": [
    "### Math Grade5"
   ]
  },
  {
   "cell_type": "code",
   "execution_count": 35,
   "metadata": {},
   "outputs": [],
   "source": [
    "df_grade5_math = df_grade5_math.drop(columns =  [\\\n",
    "       'Raw Score.4', 'Percent Score.4', 'Approaches Grade Level.4', 'meets',\\\n",
    "       'Masters.2', 'Date Taken.4', 'Raw Score.5', 'Percent Score.5',\\\n",
    "       'Approaches Grade Level.5', 'Meets.5', 'Masters.3', 'Date Taken.5',\\\n",
    "       'Raw Score.6', 'Percent Score.6', 'Approaches Grade Level.6', 'Meets.6',\\\n",
    "       'Masters.4', 'Date Taken.6'])"
   ]
  },
  {
   "cell_type": "code",
   "execution_count": 36,
   "metadata": {},
   "outputs": [],
   "source": [
    "df_grade5_math.columns = ['Local ID', 'Special Ed Indicator', 'LEP', 'Ethnicity',\\\n",
    "'Raw Score.2', 'Percent Score.2', 'Approaches.2', 'Meets.2', 'Masters.2', 'Date Taken.2',\\\n",
    "'Raw Score.4', 'Percent Score.4', 'Approaches.4', 'Meets.4', 'Masters.4', 'Date Taken.4',\\\n",
    "'Raw Score.6', 'Percent Score.6', 'Approaches.6', 'Meets.6', 'Masters.6', 'Date Taken.6',\\\n",
    "'Raw Score.7', 'Percent Score.7', 'Approaches.7','Meets.7', 'Masters.7', 'Date Taken.7']\n",
    "\n",
    "df_grade5_math[['Raw Score.3', 'Percent Score.3', 'Approaches.3','Meets.3', 'Masters.3', 'Date Taken.3']] = \\\n",
    "    pd.DataFrame([['-'] * 6], index=df_grade5_math.index)\n",
    "\n",
    "df_grade5_math[['Raw Score.5', 'Percent Score.5', 'Approaches.5', 'Meets.5', 'Masters.5', 'Date Taken.5']] = \\\n",
    "    pd.DataFrame([['-'] * 6], index=df_grade5_math.index)"
   ]
  },
  {
   "cell_type": "code",
   "execution_count": 37,
   "metadata": {},
   "outputs": [],
   "source": [
    "df_grade5_math = pd.merge(df_grade5_math, df_grade5_previous_year_math, how = 'left', on = \"Local ID\", suffixes = [\"\",\"_prev\"])"
   ]
  },
  {
   "cell_type": "code",
   "execution_count": 38,
   "metadata": {},
   "outputs": [],
   "source": [
    "df_grade5_math = pd.merge(df_grade5_math, df_economically_disadvantaged[[\"Local ID\",\"Meal Status\"]], how='left', on = \"Local ID\")\n",
    "df_grade5_math = pd.merge(df_grade5_math, df_continously_enrolled[[\"Local ID\",\"16-17 PEIMS Campus\"]], how='left', on = \"Local ID\")\n",
    "df_grade5_math[\"Meal Status\"].fillna(\"No\", inplace=True)\n",
    "df_grade5_math['Continously Enrolled'] = np.where(df_grade5_math['16-17 PEIMS Campus'].isnull(), \"No\",\"Yes\")\n",
    "df_grade5_math = df_grade5_math.drop(columns=[\"16-17 PEIMS Campus\"])"
   ]
  },
  {
   "cell_type": "code",
   "execution_count": 39,
   "metadata": {},
   "outputs": [],
   "source": [
    "df_temp = pd.DataFrame({'a':[np.nan]})\n",
    "df_temp.to_csv((join(grade5_directory, \"__5th Grade STAAR Math Carmichael Final.csv\")), index=False, header = None)\n",
    "df_grade5_math.to_csv((join(grade5_directory, \"__5th Grade STAAR Math Carmichael Final.csv\")),mode='a', columns = grade5_column_order)"
   ]
  }
 ],
 "metadata": {
  "kernelspec": {
   "display_name": "Python 3",
   "language": "python",
   "name": "python3"
  },
  "language_info": {
   "codemirror_mode": {
    "name": "ipython",
    "version": 3
   },
   "file_extension": ".py",
   "mimetype": "text/x-python",
   "name": "python",
   "nbconvert_exporter": "python",
   "pygments_lexer": "ipython3",
   "version": "3.7.3"
  }
 },
 "nbformat": 4,
 "nbformat_minor": 2
}
